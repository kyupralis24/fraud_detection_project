{
 "cells": [
  {
   "cell_type": "code",
   "execution_count": null,
   "id": "0b38cebd",
   "metadata": {},
   "outputs": [],
   "source": [
    "import pandas as pd\n",
    "import shap\n",
    "from xgboost import XGBClassifier\n",
    "import matplotlib.pyplot as plt"
   ]
  },
  {
   "cell_type": "code",
   "execution_count": null,
   "id": "f4b14226",
   "metadata": {},
   "outputs": [],
   "source": [
    "X_train = pd.read_csv('data/X_train_balanced.csv')\n",
    "X_test = pd.read_csv('data/X_test.csv')"
   ]
  },
  {
   "cell_type": "code",
   "execution_count": null,
   "id": "ad2cdb9c",
   "metadata": {},
   "outputs": [],
   "source": [
    "xgb_model = XGBClassifier()\n",
    "xgb_model.load_model('models/xgb_model.json')"
   ]
  },
  {
   "cell_type": "code",
   "execution_count": null,
   "id": "78460427",
   "metadata": {},
   "outputs": [],
   "source": [
    "explainer = shap.Explainer(xgb_model, X_train)\n",
    "shap_values = explainer(X_test)"
   ]
  },
  {
   "cell_type": "code",
   "execution_count": null,
   "id": "cbd63fb1",
   "metadata": {},
   "outputs": [],
   "source": [
    "shap.summary_plot(shap_values, X_test, show=False)\n",
    "plt.savefig(\"outputs/4_shap_summary_plot.png\")"
   ]
  },
  {
   "cell_type": "code",
   "execution_count": null,
   "id": "69cd76cc",
   "metadata": {},
   "outputs": [],
   "source": [
    "try:\n",
    "    plt.figure(figsize=(15, 5))\n",
    "    shap.force_plot(\n",
    "        explainer.expected_value[0],\n",
    "        shap_values[1],\n",
    "        X_test.iloc[1],\n",
    "        matplotlib=True\n",
    "    ).savefig(\"outputs/4_shap_force_plot.png\")\n",
    "except Exception as e:\n",
    "    print(f\"Error generating SHAP force plot: {e}\")"
   ]
  },
  {
   "cell_type": "code",
   "execution_count": null,
   "id": "e1e6dfdf",
   "metadata": {},
   "outputs": [],
   "source": [
    "shap.dependence_plot(\"Amount\", shap_values.values, X_test, show=False)\n",
    "plt.savefig(\"outputs/4_shap_dependence_plot.png\")"
   ]
  }
 ],
 "metadata": {
  "jupytext": {
   "cell_metadata_filter": "-all",
   "main_language": "python",
   "notebook_metadata_filter": "-all"
  }
 },
 "nbformat": 4,
 "nbformat_minor": 5
}
